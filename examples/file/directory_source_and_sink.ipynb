{
 "cells": [
  {
   "cell_type": "code",
   "execution_count": 1,
   "id": "ffcbc79f",
   "metadata": {},
   "outputs": [],
   "source": [
    "import ray\n",
    "import rayvens\n",
    "import sys\n",
    "import time\n",
    "import os\n",
    "import yaml\n",
    "import json\n",
    "\n",
    "import pandas as pd\n",
    "from io import StringIO"
   ]
  },
  {
   "cell_type": "code",
   "execution_count": 2,
   "id": "faa63d3a",
   "metadata": {},
   "outputs": [],
   "source": [
    "import random\n",
    "import string\n",
    "\n",
    "def generate_id(N: int=8) -> str:\n",
    "    \n",
    "    return ''.join(random.choices(string.ascii_lowercase + string.digits, k=N))"
   ]
  },
  {
   "cell_type": "markdown",
   "id": "d4715d50",
   "metadata": {},
   "source": [
    "# File System Directory as Source and Sink\n",
    "___\n",
    "\n",
    "This tutorial will demo how to read, process, and upload files from and to a ```rayvens``` stream, where the source and sink of the stream are directories in the local file system.\n",
    "___\n",
    "\n",
    "### Run Parameters\n",
    "\n",
    "Let's first define some run parameters for ```rayvens```:\n",
    "\n",
    "* ```run_mode```: for the rayvens run mode. We will demonstrate on the local run mode.\n",
    "* ```after_idle_for```: idle time before stream is disconnected.\n",
    "* ```rayvens_logs```: whether to print the full ```rayvens``` logs. We will opt not to print them."
   ]
  },
  {
   "cell_type": "code",
   "execution_count": 3,
   "id": "78997102",
   "metadata": {},
   "outputs": [],
   "source": [
    "from collections import namedtuple\n",
    "\n",
    "run_mode, after_idle_for, rayvens_logs = 'local', 5, False\n",
    "\n",
    "Args = namedtuple('Args',['run_mode','after_idle_for','rayvens_logs'])\n",
    "args = Args(run_mode, after_idle_for, rayvens_logs)"
   ]
  },
  {
   "cell_type": "markdown",
   "id": "23e8b786",
   "metadata": {},
   "source": [
    "### Initialization\n",
    "\n",
    "We now initialize ```ray``` and ```rayvens```. "
   ]
  },
  {
   "cell_type": "code",
   "execution_count": 4,
   "id": "ed019faf",
   "metadata": {},
   "outputs": [
    {
     "name": "stderr",
     "output_type": "stream",
     "text": [
      "2022-10-29 19:30:28,197\tINFO services.py:1272 -- View the Ray dashboard at \u001b[1m\u001b[32mhttp://127.0.0.1:8265\u001b[39m\u001b[22m\n"
     ]
    }
   ],
   "source": [
    "import ray\n",
    "import rayvens\n",
    "\n",
    "if args.run_mode == 'operator':\n",
    "    ray.init(address='auto',ignore_reinit_error=True)\n",
    "else:\n",
    "    ray.init(ignore_reinit_error=True)\n",
    "rayvens.init(mode=args.run_mode ,release=(not args.rayvens_logs))"
   ]
  },
  {
   "cell_type": "markdown",
   "id": "6e2c50fe",
   "metadata": {},
   "source": [
    "### Source and Sink Configurations\n",
    "\n",
    "We choose a file system directory ```path```, which we will use both to read and process files as well as to upload files.\n",
    "\n",
    "We also choose another file system directory ```path_dest``` into which files will be trasferred once processed.\n",
    "\n",
    "The default values are the current working directory and its parent."
   ]
  },
  {
   "cell_type": "code",
   "execution_count": 5,
   "id": "bf3cd605",
   "metadata": {},
   "outputs": [],
   "source": [
    "path = './rayvens_directory_test' # will be created in current working directory\n",
    "path_dest = './processed' # will be created under path\n",
    "\n",
    "if not os.path.exists(path):\n",
    "    os.mkdir(path)"
   ]
  },
  {
   "cell_type": "code",
   "execution_count": 6,
   "id": "16300279",
   "metadata": {},
   "outputs": [],
   "source": [
    "from pathlib import Path\n",
    "\n",
    "stream_path = Path(path)\n",
    "\n",
    "if stream_path.is_dir():\n",
    "    source_path = str(stream_path)\n",
    "    sink_path = str(stream_path)\n",
    "    source_uri = f'file:{str(source_path)}?'\n",
    "elif stream_path.is_file():\n",
    "    source_path = str(stream_path)\n",
    "    sink_path = str(stream_path.parent)\n",
    "    source_uri = f'file:{str(stream_path.parent)}?filename={stream_path.name}'\n",
    "else:\n",
    "    raise TypeError(f'Path {path} must either be a directory or a file.')\n",
    "\n",
    "sink_uri = f'file:{str(sink_path)}?'\n",
    "source_uri += f'move={str(path_dest)}'"
   ]
  },
  {
   "cell_type": "markdown",
   "id": "17d0f328",
   "metadata": {},
   "source": [
    "We define the configurations for the stream source and sink.\n",
    "\n",
    "NOTE: we can either choose to keep the files in the source directory with ```keep_file=True``` or move them to a different directory by specifying one under ```move_after_read```. As expected, these two options are mutually exclusive."
   ]
  },
  {
   "cell_type": "code",
   "execution_count": 7,
   "id": "4bc74b5c",
   "metadata": {},
   "outputs": [],
   "source": [
    "source_config = dict(kind='file-source', path=source_path, keep_file=False, move_after_read=path_dest)\n",
    "sink_config = dict(kind='file-sink', path=sink_path)"
   ]
  },
  {
   "cell_type": "markdown",
   "id": "de58b369",
   "metadata": {},
   "source": [
    "We can emunalte directory sink of a ```rayvens``` stream with a generic sink. "
   ]
  },
  {
   "cell_type": "code",
   "execution_count": 8,
   "id": "e903a580",
   "metadata": {},
   "outputs": [],
   "source": [
    "# sink_config = dict(kind='generic-sink', uri=sink_uri)"
   ]
  },
  {
   "cell_type": "markdown",
   "id": "be533a92",
   "metadata": {},
   "source": [
    "### rayvens Sink\n",
    "\n",
    "We are ready to test the given file system directory under ```path``` as a ```rayvens``` stream sink. \n",
    "\n",
    "We will use the ```rayvens``` stream to upload a json file to the directory under ```path```."
   ]
  },
  {
   "cell_type": "code",
   "execution_count": 9,
   "id": "ab73774e",
   "metadata": {},
   "outputs": [],
   "source": [
    "json_content = {'content': ('foo', None, 1.0, 2)}\n",
    "json_name = f\"file_{generate_id()}.json\"\n",
    "json_path = os.path.join(sink_path,json_name)"
   ]
  },
  {
   "cell_type": "code",
   "execution_count": 10,
   "id": "0ed4ef43",
   "metadata": {},
   "outputs": [
    {
     "name": "stdout",
     "output_type": "stream",
     "text": [
      "\u001b[2m\u001b[36m(pid=29196)\u001b[0m Exec command =>  /Users/oritd/.pyenv/versions/3.9.0/envs/rayvens/bin/python3.9 /Users/oritd/Workspace/playground/rayvens/rayvens/core/harness.py kamel local run --property quarkus.http.port=58284 -d camel:camel-quarkus-microprofile-health /Users/oritd/Workspace/playground/sandbox/files-upload-file-sink.yaml\n",
      "\u001b[2m\u001b[36m(pid=29196)\u001b[0m [Kamel subprocess] Kamel `local run` command finished successfully.\n",
      "\u001b[2m\u001b[36m(pid=29196)\u001b[0m Integration files-upload-file-sink is ready.\n"
     ]
    }
   ],
   "source": [
    "stream = rayvens.Stream('files-upload')\n",
    "\n",
    "sink = stream.add_sink(sink_config)\n",
    "\n",
    "event = rayvens.OutputEvent(json.dumps(json_content),{\"CamelFileName\": json_name})\n",
    "\n",
    "stream << event\n",
    "\n",
    "stream.disconnect_all(after_idle_for=args.after_idle_for)"
   ]
  },
  {
   "cell_type": "code",
   "execution_count": 11,
   "id": "8d06aecc",
   "metadata": {},
   "outputs": [
    {
     "name": "stdout",
     "output_type": "stream",
     "text": [
      "Upload of file file_t0wx20kc.json successful: True.\n"
     ]
    }
   ],
   "source": [
    "print('Upload of file {} successful: {}.'.format(json_name,os.path.exists(json_path)))"
   ]
  },
  {
   "cell_type": "markdown",
   "id": "53d4fa26",
   "metadata": {},
   "source": [
    "### rayvens Source\n",
    "\n",
    "We will now test the given file system directory under ```path``` as a ```rayvens``` source.\n",
    "\n",
    "NOTE: Moving will delete all files under ```path```, once processed, and trasfer them to the directory under ```path_dest```."
   ]
  },
  {
   "cell_type": "code",
   "execution_count": 12,
   "id": "6da1c5e4",
   "metadata": {},
   "outputs": [
    {
     "name": "stdout",
     "output_type": "stream",
     "text": [
      "\u001b[2m\u001b[36m(pid=29197)\u001b[0m Exec command =>  /Users/oritd/.pyenv/versions/3.9.0/envs/rayvens/bin/python3.9 /Users/oritd/Workspace/playground/rayvens/rayvens/core/harness.py kamel local run /Users/oritd/Workspace/playground/rayvens/rayvens/core/FileQueueName.java -d mvn:com.googlecode.json-simple:json-simple:1.1.1 --property quarkus.http.port=62044 -d camel:camel-quarkus-microprofile-health /Users/oritd/Workspace/playground/sandbox/files-download-file-source.yaml\n",
      "\u001b[2m\u001b[36m(pid=29197)\u001b[0m [Kamel subprocess] Kamel `local run` command finished successfully.\n",
      "\u001b[2m\u001b[36m(pid=29197)\u001b[0m Integration files-download-file-source is ready.\n",
      "\u001b[2m\u001b[36m(pid=29197)\u001b[0m File name: file_t0wx20kc.json, Contents: {\"content\": [\"foo\", null, 1.0, 2]}\n"
     ]
    }
   ],
   "source": [
    "stream = rayvens.Stream('files-download')\n",
    "\n",
    "source = stream.add_source(source_config)\n",
    "\n",
    "def process_file(event):\n",
    "    json_event = json.loads(event)\n",
    "    print(f\"File name: {json_event['filename']}, Contents: {json_event['body']}\")\n",
    "\n",
    "stream >> process_file\n",
    "\n",
    "stream.disconnect_all(after_idle_for=args.after_idle_for)"
   ]
  },
  {
   "cell_type": "code",
   "execution_count": 13,
   "id": "fac9d032",
   "metadata": {},
   "outputs": [
    {
     "name": "stdout",
     "output_type": "stream",
     "text": [
      "Files kept in path: False\n"
     ]
    }
   ],
   "source": [
    "print('Files kept in path:',os.path.exists(json_path))"
   ]
  },
  {
   "cell_type": "markdown",
   "id": "59a008a1",
   "metadata": {},
   "source": [
    "### Shutting down\n",
    "\n",
    "Finally, we make sure to shut down eveything."
   ]
  },
  {
   "cell_type": "code",
   "execution_count": 14,
   "id": "8abd430f",
   "metadata": {},
   "outputs": [],
   "source": [
    "stream.disconnect_all()\n",
    "\n",
    "ray.shutdown()"
   ]
  },
  {
   "cell_type": "code",
   "execution_count": null,
   "id": "42519588",
   "metadata": {},
   "outputs": [],
   "source": []
  }
 ],
 "metadata": {
  "kernelspec": {
   "display_name": "Python 3",
   "language": "python",
   "name": "python3"
  },
  "language_info": {
   "codemirror_mode": {
    "name": "ipython",
    "version": 3
   },
   "file_extension": ".py",
   "mimetype": "text/x-python",
   "name": "python",
   "nbconvert_exporter": "python",
   "pygments_lexer": "ipython3",
   "version": "3.9.0"
  }
 },
 "nbformat": 4,
 "nbformat_minor": 5
}
