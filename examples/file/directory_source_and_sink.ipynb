{
 "cells": [
  {
   "cell_type": "code",
   "execution_count": null,
   "id": "ffcbc79f",
   "metadata": {},
   "outputs": [],
   "source": [
    "import ray\n",
    "import rayvens\n",
    "import sys\n",
    "import time\n",
    "import os\n",
    "import yaml\n",
    "import json\n",
    "\n",
    "import pandas as pd\n",
    "from io import StringIO"
   ]
  },
  {
   "cell_type": "code",
   "execution_count": null,
   "id": "faa63d3a",
   "metadata": {},
   "outputs": [],
   "source": [
    "import random\n",
    "import string\n",
    "\n",
    "def generate_id(N: int=8) -> str:\n",
    "    \n",
    "    return ''.join(random.choices(string.ascii_lowercase + string.digits, k=N))"
   ]
  },
  {
   "cell_type": "markdown",
   "id": "d4715d50",
   "metadata": {},
   "source": [
    "# File System Directory as Source and Sink\n",
    "___\n",
    "\n",
    "This tutorial will demo how to read, process, and upload files from and to a ```rayvens``` stream, where the source and sink of the stream are directories in the local file system.\n",
    "___\n",
    "\n",
    "## Run Parameters\n",
    "\n",
    "Let's first define some run parameters for ```rayvens```:\n",
    "\n",
    "* ```run_mode```: for the rayvens run mode. We will demonstrate on the local run mode.\n",
    "* ```after_idle_for```: idle time before stream is disconnected.\n",
    "* ```rayvens_logs```: whether to print the full ```rayvens``` logs. We will opt not to print them."
   ]
  },
  {
   "cell_type": "code",
   "execution_count": null,
   "id": "78997102",
   "metadata": {},
   "outputs": [],
   "source": [
    "from collections import namedtuple\n",
    "\n",
    "run_mode, after_idle_for, rayvens_logs = 'local', 5, False\n",
    "\n",
    "Args = namedtuple('Args',['run_mode','after_idle_for','rayvens_logs'])\n",
    "args = Args(run_mode, after_idle_for, rayvens_logs)"
   ]
  },
  {
   "cell_type": "markdown",
   "id": "23e8b786",
   "metadata": {},
   "source": [
    "## Initialization\n",
    "\n",
    "We now initialize ```ray``` and ```rayvens```. "
   ]
  },
  {
   "cell_type": "code",
   "execution_count": null,
   "id": "ed019faf",
   "metadata": {},
   "outputs": [],
   "source": [
    "import ray\n",
    "import rayvens\n",
    "\n",
    "if args.run_mode == 'operator':\n",
    "    ray.init(address='auto',ignore_reinit_error=True)\n",
    "else:\n",
    "    ray.init(ignore_reinit_error=True)\n",
    "rayvens.init(mode=args.run_mode ,release=(not args.rayvens_logs))"
   ]
  },
  {
   "cell_type": "markdown",
   "id": "6e2c50fe",
   "metadata": {},
   "source": [
    "## Source and Sink Configurations\n",
    "\n",
    "We choose a file system directory ```path```, which we will use both to read and process files as well as to upload files. \n",
    "\n",
    "By default, we choose ```path``` to be a new directory ```rayvens_directory_test``` under the current working directory.\n",
    "\n",
    "We choose an additional file system directory ```path_dest``` under ```path``` into which files will be trasferred once processed.\n",
    "\n",
    "NOTE: change these default path values as needed."
   ]
  },
  {
   "cell_type": "code",
   "execution_count": null,
   "id": "bf3cd605",
   "metadata": {},
   "outputs": [],
   "source": [
    "path = './rayvens_directory_test' # will be created in current working directory\n",
    "path_dest = './processed' # will be created under path\n",
    "\n",
    "if not os.path.exists(path):\n",
    "    os.mkdir(path)"
   ]
  },
  {
   "cell_type": "code",
   "execution_count": null,
   "id": "16300279",
   "metadata": {},
   "outputs": [],
   "source": [
    "from pathlib import Path\n",
    "\n",
    "stream_path = Path(path)\n",
    "\n",
    "if stream_path.is_dir():\n",
    "    source_path = str(stream_path)\n",
    "    sink_path = str(stream_path)\n",
    "elif stream_path.is_file():\n",
    "    source_path = str(stream_path)\n",
    "    filename = str(stream_path.name)\n",
    "    sink_path = str(stream_path.parent)\n",
    "else:\n",
    "    raise TypeError(f'Path {path} must either be a directory or a file.')"
   ]
  },
  {
   "cell_type": "markdown",
   "id": "17d0f328",
   "metadata": {},
   "source": [
    "We define the configurations for the stream source and sink.\n",
    "\n",
    "NOTE: we can either choose to keep the files in the source directory with ```keep_file=True``` or move them to a different directory by specifying one under ```move_after_read```. These two options are MUTUALLY EXCLUSIVE."
   ]
  },
  {
   "cell_type": "code",
   "execution_count": null,
   "id": "4bc74b5c",
   "metadata": {},
   "outputs": [],
   "source": [
    "source_config = dict(kind='file-source', path=source_path, keep_file=False, move_after_read=path_dest)\n",
    "sink_config = dict(kind='file-sink', path=sink_path)"
   ]
  },
  {
   "cell_type": "markdown",
   "id": "be533a92",
   "metadata": {},
   "source": [
    "## rayvens Sink\n",
    "\n",
    "We are ready to test the given file system directory under ```path``` as a ```rayvens``` stream sink. \n",
    "\n",
    "We will use the ```rayvens``` stream to upload a json file to the directory under ```path```."
   ]
  },
  {
   "cell_type": "code",
   "execution_count": null,
   "id": "ab73774e",
   "metadata": {},
   "outputs": [],
   "source": [
    "json_content = {'content': ('foo', None, 1.0, 2)}\n",
    "json_name = f\"file_{generate_id()}.json\"\n",
    "json_path = os.path.join(sink_path,json_name)"
   ]
  },
  {
   "cell_type": "code",
   "execution_count": null,
   "id": "0ed4ef43",
   "metadata": {},
   "outputs": [],
   "source": [
    "stream = rayvens.Stream('files-upload')\n",
    "\n",
    "sink = stream.add_sink(sink_config)\n",
    "\n",
    "event = rayvens.OutputEvent(json.dumps(json_content),{\"CamelFileName\": json_name})\n",
    "\n",
    "stream << event\n",
    "\n",
    "stream.disconnect_all(after_idle_for=args.after_idle_for)"
   ]
  },
  {
   "cell_type": "code",
   "execution_count": null,
   "id": "8d06aecc",
   "metadata": {},
   "outputs": [],
   "source": [
    "print('Upload of file {} successful: {}.'.format(json_name,os.path.exists(json_path)))"
   ]
  },
  {
   "cell_type": "markdown",
   "id": "53d4fa26",
   "metadata": {},
   "source": [
    "## rayvens Source\n",
    "\n",
    "We will now test the given file system directory under ```path``` as a ```rayvens``` source.\n",
    "\n",
    "NOTE: Moving will delete all files under ```path```, once processed, and trasfer them to the directory under ```path_dest```."
   ]
  },
  {
   "cell_type": "code",
   "execution_count": null,
   "id": "6da1c5e4",
   "metadata": {},
   "outputs": [],
   "source": [
    "stream = rayvens.Stream('files-download')\n",
    "\n",
    "source = stream.add_source(source_config)\n",
    "\n",
    "def process_file(event):\n",
    "    event_json = json.loads(event)\n",
    "    print(f\"File name: {event_json['filename']}, Contents: {event_json['body']}\")\n",
    "\n",
    "stream >> process_file\n",
    "\n",
    "stream.disconnect_all(after_idle_for=args.after_idle_for)"
   ]
  },
  {
   "cell_type": "code",
   "execution_count": null,
   "id": "fac9d032",
   "metadata": {},
   "outputs": [],
   "source": [
    "print('Files kept in path:',os.path.exists(json_path))"
   ]
  },
  {
   "cell_type": "markdown",
   "id": "746a3118",
   "metadata": {},
   "source": [
    "## rayvens Raw Source\n",
    "\n",
    "```rayvens``` also has the option to get the raw file data directly, as opoosed to the above event json format.\n",
    "\n",
    "This option does not have file move functionality. It is intended for scenarios where file name is redundant and file size may be a major concern.\n",
    "\n",
    "First, we will create a new test file."
   ]
  },
  {
   "cell_type": "code",
   "execution_count": null,
   "id": "62e8aba7",
   "metadata": {},
   "outputs": [],
   "source": [
    "json_content_raw = {'content': ('bar', None, 1.0, 2)}\n",
    "json_name_raw = f\"file_{generate_id()}.json\"\n",
    "json_path_raw = os.path.join(sink_path,json_name_raw)"
   ]
  },
  {
   "cell_type": "markdown",
   "id": "9cba54a4",
   "metadata": {},
   "source": [
    "And upload it to the sink path."
   ]
  },
  {
   "cell_type": "code",
   "execution_count": null,
   "id": "0158fbe1",
   "metadata": {},
   "outputs": [],
   "source": [
    "sink_config_raw = dict(kind='file-sink', path=sink_path)\n",
    "\n",
    "stream = rayvens.Stream('files-upload-raw')\n",
    "\n",
    "sink = stream.add_sink(sink_config_raw)\n",
    "\n",
    "event = rayvens.OutputEvent(json.dumps(json_content_raw),{\"CamelFileName\": json_name_raw})\n",
    "\n",
    "stream << event\n",
    "\n",
    "stream.disconnect_all(after_idle_for=args.after_idle_for)"
   ]
  },
  {
   "cell_type": "markdown",
   "id": "53acf811",
   "metadata": {},
   "source": [
    "The source configuration for raw file data has a slightly different API."
   ]
  },
  {
   "cell_type": "code",
   "execution_count": null,
   "id": "a53da3f4",
   "metadata": {},
   "outputs": [],
   "source": [
    "source_config_raw = dict(kind='file-source-raw', path=source_path, keep_file=True)"
   ]
  },
  {
   "cell_type": "markdown",
   "id": "3c978a83",
   "metadata": {},
   "source": [
    "Now we're ready to process the uploaded file."
   ]
  },
  {
   "cell_type": "code",
   "execution_count": null,
   "id": "42519588",
   "metadata": {},
   "outputs": [],
   "source": [
    "stream = rayvens.Stream('files-download')\n",
    "\n",
    "source = stream.add_source(source_config_raw)\n",
    "\n",
    "def process_file(event):\n",
    "    event = json.loads(event)\n",
    "    print(f\"File content: {event}\")\n",
    "\n",
    "stream >> process_file\n",
    "\n",
    "stream.disconnect_all(after_idle_for=args.after_idle_for)"
   ]
  },
  {
   "cell_type": "code",
   "execution_count": null,
   "id": "ea604125",
   "metadata": {},
   "outputs": [],
   "source": [
    "print('Files kept in path:',os.path.exists(json_path_raw))"
   ]
  },
  {
   "cell_type": "markdown",
   "id": "76c7dfc2",
   "metadata": {},
   "source": [
    "## Shutting down\n",
    "\n",
    "Finally, we make sure to shut down eveything."
   ]
  },
  {
   "cell_type": "code",
   "execution_count": null,
   "id": "648be47e",
   "metadata": {},
   "outputs": [],
   "source": [
    "stream.disconnect_all()\n",
    "\n",
    "ray.shutdown()"
   ]
  },
  {
   "cell_type": "code",
   "execution_count": null,
   "id": "9400ac01",
   "metadata": {},
   "outputs": [],
   "source": []
  }
 ],
 "metadata": {
  "kernelspec": {
   "display_name": "Python 3",
   "language": "python",
   "name": "python3"
  },
  "language_info": {
   "codemirror_mode": {
    "name": "ipython",
    "version": 3
   },
   "file_extension": ".py",
   "mimetype": "text/x-python",
   "name": "python",
   "nbconvert_exporter": "python",
   "pygments_lexer": "ipython3",
   "version": "3.9.0"
  }
 },
 "nbformat": 4,
 "nbformat_minor": 5
}
